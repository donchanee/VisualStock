{
  "nbformat": 4,
  "nbformat_minor": 0,
  "metadata": {
    "colab": {
      "name": "Dart.ipynb",
      "provenance": [],
      "collapsed_sections": [],
      "authorship_tag": "ABX9TyMUiJIbi7Lig1lGiKPV+htU",
      "include_colab_link": true
    },
    "kernelspec": {
      "name": "python3",
      "display_name": "Python 3"
    }
  },
  "cells": [
    {
      "cell_type": "markdown",
      "metadata": {
        "id": "view-in-github",
        "colab_type": "text"
      },
      "source": [
        "<a href=\"https://colab.research.google.com/github/donchanee/VisualStock/blob/main/Dart.ipynb\" target=\"_parent\"><img src=\"https://colab.research.google.com/assets/colab-badge.svg\" alt=\"Open In Colab\"/></a>"
      ]
    },
    {
      "cell_type": "code",
      "metadata": {
        "id": "LhCq26gwtxVU"
      },
      "source": [
        "from io import BytesIO\n",
        "import pandas as pd"
      ],
      "execution_count": 1,
      "outputs": []
    },
    {
      "cell_type": "code",
      "metadata": {
        "colab": {
          "base_uri": "https://localhost:8080/",
          "height": 35
        },
        "id": "RHnjEzZNt5l8",
        "outputId": "e3672e7e-b862-4518-eb5c-bc522e2e2677"
      },
      "source": [
        "user_agent = \"Mozilla/5.0 (Windows NT 10.0; Win64; x64) AppleWebKit/537.36 (KHTML, like Gecko) Chrome/87.0.4280.66 Safari/537.36\"\n",
        "user_agent"
      ],
      "execution_count": 6,
      "outputs": [
        {
          "output_type": "execute_result",
          "data": {
            "application/vnd.google.colaboratory.intrinsic+json": {
              "type": "string"
            },
            "text/plain": [
              "'Mozilla/5.0 (Windows NT 10.0; Win64; x64) AppleWebKit/537.36 (KHTML, like Gecko) Chrome/87.0.4280.66 Safari/537.36'"
            ]
          },
          "metadata": {
            "tags": []
          },
          "execution_count": 6
        }
      ]
    },
    {
      "cell_type": "code",
      "metadata": {
        "id": "4oEHOv2IIHi4"
      },
      "source": [
        "url = \"http://dart.fss.or.kr/pdf/download/excel.do?rcp_no=20201116001248&dcm_no=7549051&lang=ko\""
      ],
      "execution_count": 7,
      "outputs": []
    },
    {
      "cell_type": "code",
      "metadata": {
        "id": "5m-oxyQLH9SK"
      },
      "source": [
        "import requests\n",
        "\n",
        "resp = requests.get(url, headers={\"user-agent\": user_agent})"
      ],
      "execution_count": 8,
      "outputs": []
    },
    {
      "cell_type": "code",
      "metadata": {
        "colab": {
          "base_uri": "https://localhost:8080/",
          "height": 419
        },
        "id": "BegHjgEiJ2dw",
        "outputId": "9020e028-1c13-4915-eb8f-314f5bfe683a"
      },
      "source": [
        "B = BytesIO(resp.content)\n",
        "\n",
        "pd.read_excel(B)"
      ],
      "execution_count": 11,
      "outputs": [
        {
          "output_type": "execute_result",
          "data": {
            "text/html": [
              "<div>\n",
              "<style scoped>\n",
              "    .dataframe tbody tr th:only-of-type {\n",
              "        vertical-align: middle;\n",
              "    }\n",
              "\n",
              "    .dataframe tbody tr th {\n",
              "        vertical-align: top;\n",
              "    }\n",
              "\n",
              "    .dataframe thead th {\n",
              "        text-align: right;\n",
              "    }\n",
              "</style>\n",
              "<table border=\"1\" class=\"dataframe\">\n",
              "  <thead>\n",
              "    <tr style=\"text-align: right;\">\n",
              "      <th></th>\n",
              "      <th>Unnamed: 0</th>\n",
              "      <th>Unnamed: 1</th>\n",
              "      <th>Unnamed: 2</th>\n",
              "      <th>Unnamed: 3</th>\n",
              "      <th>Unnamed: 4</th>\n",
              "      <th>Unnamed: 5</th>\n",
              "    </tr>\n",
              "  </thead>\n",
              "  <tbody>\n",
              "    <tr>\n",
              "      <th>0</th>\n",
              "      <td>문서정보</td>\n",
              "      <td>NaN</td>\n",
              "      <td>NaN</td>\n",
              "      <td>NaN</td>\n",
              "      <td>NaN</td>\n",
              "      <td>NaN</td>\n",
              "    </tr>\n",
              "    <tr>\n",
              "      <th>1</th>\n",
              "      <td>보고서 유형 : 3분기보고서</td>\n",
              "      <td>정정공시여부 : 아니오</td>\n",
              "      <td>NaN</td>\n",
              "      <td>NaN</td>\n",
              "      <td>NaN</td>\n",
              "      <td>NaN</td>\n",
              "    </tr>\n",
              "    <tr>\n",
              "      <th>2</th>\n",
              "      <td>NaN</td>\n",
              "      <td>NaN</td>\n",
              "      <td>NaN</td>\n",
              "      <td>NaN</td>\n",
              "      <td>NaN</td>\n",
              "      <td>NaN</td>\n",
              "    </tr>\n",
              "    <tr>\n",
              "      <th>3</th>\n",
              "      <td>NaN</td>\n",
              "      <td>NaN</td>\n",
              "      <td>NaN</td>\n",
              "      <td>NaN</td>\n",
              "      <td>NaN</td>\n",
              "      <td>NaN</td>\n",
              "    </tr>\n",
              "    <tr>\n",
              "      <th>4</th>\n",
              "      <td>문서작성일 : 2020-09-30</td>\n",
              "      <td>비교표시 재무제표 작성여부 : 예</td>\n",
              "      <td>NaN</td>\n",
              "      <td>NaN</td>\n",
              "      <td>NaN</td>\n",
              "      <td>NaN</td>\n",
              "    </tr>\n",
              "    <tr>\n",
              "      <th>...</th>\n",
              "      <td>...</td>\n",
              "      <td>...</td>\n",
              "      <td>...</td>\n",
              "      <td>...</td>\n",
              "      <td>...</td>\n",
              "      <td>...</td>\n",
              "    </tr>\n",
              "    <tr>\n",
              "      <th>62</th>\n",
              "      <td>재무상태표</td>\n",
              "      <td>유동/비유동법</td>\n",
              "      <td>NaN</td>\n",
              "      <td>NaN</td>\n",
              "      <td>NaN</td>\n",
              "      <td>NaN</td>\n",
              "    </tr>\n",
              "    <tr>\n",
              "      <th>63</th>\n",
              "      <td>포괄손익계산서</td>\n",
              "      <td>손익/기타포괄손익 개별작성</td>\n",
              "      <td>NaN</td>\n",
              "      <td>NaN</td>\n",
              "      <td>NaN</td>\n",
              "      <td>NaN</td>\n",
              "    </tr>\n",
              "    <tr>\n",
              "      <th>64</th>\n",
              "      <td>NaN</td>\n",
              "      <td>비용의 기능</td>\n",
              "      <td>NaN</td>\n",
              "      <td>NaN</td>\n",
              "      <td>NaN</td>\n",
              "      <td>NaN</td>\n",
              "    </tr>\n",
              "    <tr>\n",
              "      <th>65</th>\n",
              "      <td>NaN</td>\n",
              "      <td>세후기타포괄손익</td>\n",
              "      <td>NaN</td>\n",
              "      <td>NaN</td>\n",
              "      <td>NaN</td>\n",
              "      <td>NaN</td>\n",
              "    </tr>\n",
              "    <tr>\n",
              "      <th>66</th>\n",
              "      <td>현금흐름표</td>\n",
              "      <td>간접법</td>\n",
              "      <td>NaN</td>\n",
              "      <td>NaN</td>\n",
              "      <td>NaN</td>\n",
              "      <td>NaN</td>\n",
              "    </tr>\n",
              "  </tbody>\n",
              "</table>\n",
              "<p>67 rows × 6 columns</p>\n",
              "</div>"
            ],
            "text/plain": [
              "            Unnamed: 0          Unnamed: 1  ... Unnamed: 4 Unnamed: 5\n",
              "0                 문서정보                 NaN  ...        NaN        NaN\n",
              "1      보고서 유형 : 3분기보고서        정정공시여부 : 아니오  ...        NaN        NaN\n",
              "2                  NaN                 NaN  ...        NaN        NaN\n",
              "3                  NaN                 NaN  ...        NaN        NaN\n",
              "4   문서작성일 : 2020-09-30  비교표시 재무제표 작성여부 : 예  ...        NaN        NaN\n",
              "..                 ...                 ...  ...        ...        ...\n",
              "62               재무상태표             유동/비유동법  ...        NaN        NaN\n",
              "63             포괄손익계산서      손익/기타포괄손익 개별작성  ...        NaN        NaN\n",
              "64                 NaN              비용의 기능  ...        NaN        NaN\n",
              "65                 NaN            세후기타포괄손익  ...        NaN        NaN\n",
              "66               현금흐름표                 간접법  ...        NaN        NaN\n",
              "\n",
              "[67 rows x 6 columns]"
            ]
          },
          "metadata": {
            "tags": []
          },
          "execution_count": 11
        }
      ]
    },
    {
      "cell_type": "code",
      "metadata": {
        "id": "hX9uOgO9KpR3"
      },
      "source": [
        "data = pd.read_excel(B, sheet_name=\"연결 재무상태표\", skiprows=5)\n",
        "\n",
        "data.to_csv(\"연결 재무상태표.csv\")"
      ],
      "execution_count": 16,
      "outputs": []
    },
    {
      "cell_type": "code",
      "metadata": {
        "id": "ueIcVo-OLp1M"
      },
      "source": [
        "sheets = [\"연결 재무상태표\", \"연결 손익계산서\", \"연결 포괄손익계산서\"]\n",
        "\n",
        "for sheet in sheets:\n",
        "  data = pd.read_excel(B, sheet_name=sheet, skiprows=5)\n",
        "  data.to_csv(sheet+'.csv')"
      ],
      "execution_count": 18,
      "outputs": []
    },
    {
      "cell_type": "code",
      "metadata": {
        "id": "pwZ4sIXgOJY8"
      },
      "source": [
        "url2 = \"http://dart.fss.or.kr/pdf/download/excel.do?rcp_no=20200814001766&dcm_no=7446167&lang=ko\"\n",
        "\n",
        "resp = requests.get(url2, headers={\"user-agent\": user_agent})"
      ],
      "execution_count": 19,
      "outputs": []
    },
    {
      "cell_type": "code",
      "metadata": {
        "id": "2_SlvLLVQw0d"
      },
      "source": [
        "for period, urls in zip([\"20.11_\", \"20.08_\"], [url, url2]):\n",
        "  resp = requests.get(urls, headers={\"user-agent\": user_agent})\n",
        "  B = BytesIO(resp.content)\n",
        "  for sheet in sheets:\n",
        "    data = pd.read_excel(B, sheet_name=sheet, skiprows=5)\n",
        "    data.to_csv(period + sheet + '.csv')"
      ],
      "execution_count": 23,
      "outputs": []
    },
    {
      "cell_type": "code",
      "metadata": {
        "id": "X5Tdd6UrRlTE"
      },
      "source": [
        "def download_excel(url, period, company):\n",
        "  resp = requests.get(urls, headers={\"user-agent\": user_agent})\n",
        "  B = BytesIO(resp.content)\n",
        "  for sheet in sheets:\n",
        "    data = pd.read_excel(B, sheet_name=sheet, skiprows=5)\n",
        "    data.to_csv(period + '_' + company + '_' + sheet + '.csv')"
      ],
      "execution_count": 27,
      "outputs": []
    },
    {
      "cell_type": "code",
      "metadata": {
        "id": "yhY_dmvmSjP1"
      },
      "source": [
        "rcp_no = \"20200814001766\"\n",
        "dcm_no = \"7446167\"\n",
        "\n",
        "url_type = \"http://dart.fss.or.kr/pdf/download/excel.do?rcp_no=\" + rcp_no + \"&dcm_no=\" + dcm_no + \"&lang=ko\""
      ],
      "execution_count": 29,
      "outputs": []
    },
    {
      "cell_type": "code",
      "metadata": {
        "id": "aeT4qZYGTq7s"
      },
      "source": [
        ""
      ],
      "execution_count": null,
      "outputs": []
    }
  ]
}